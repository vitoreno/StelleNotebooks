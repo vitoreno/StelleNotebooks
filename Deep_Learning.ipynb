{
  "nbformat": 4,
  "nbformat_minor": 0,
  "metadata": {
    "colab": {
      "name": "Deep Learning.ipynb",
      "provenance": [],
      "collapsed_sections": []
    },
    "kernelspec": {
      "name": "python3",
      "display_name": "Python 3"
    }
  },
  "cells": [
    {
      "cell_type": "markdown",
      "metadata": {
        "id": "pBJqt6CRN35Y"
      },
      "source": [
        "# 1. Deep Learning"
      ]
    },
    {
      "cell_type": "markdown",
      "metadata": {
        "id": "o9ccQ06-N8Rf"
      },
      "source": [
        "## 1.1 Preparazione del notebook"
      ]
    },
    {
      "cell_type": "markdown",
      "metadata": {
        "id": "hJgz9HnOOASj"
      },
      "source": [
        "Premere il tasto *play* della cella seguente per importare i dataset dalla repository di GitHub."
      ]
    },
    {
      "cell_type": "code",
      "metadata": {
        "id": "I_hmu8meOFww"
      },
      "source": [
        "! git clone https://github.com/vitoreno/StelleDataset.git\n",
        "! unzip /content/StelleDataset/data.zip"
      ],
      "execution_count": null,
      "outputs": []
    },
    {
      "cell_type": "markdown",
      "metadata": {
        "id": "0pOKbaEvOIMR"
      },
      "source": [
        "Premere il tasto *play* della cella seguente per importare le librerie necessarie all'esecuzione del notebook."
      ]
    },
    {
      "cell_type": "code",
      "metadata": {
        "id": "xTbNUSXsOMYP"
      },
      "source": [
        "%load_ext google.colab.data_table\n",
        "import numpy as np\n",
        "import pandas as pd\n",
        "import matplotlib.pyplot as plt\n",
        "import sys\n",
        "from datetime import datetime\n",
        "from sklearn.metrics import mean_squared_error\n",
        "from keras.layers import Dense, Activation\n",
        "from keras.models import Sequential\n",
        "from sklearn.preprocessing import StandardScaler"
      ],
      "execution_count": 2,
      "outputs": []
    },
    {
      "cell_type": "markdown",
      "metadata": {
        "id": "vatXQWmuOuJN"
      },
      "source": [
        "## 1.2 Neural Network"
      ]
    },
    {
      "cell_type": "markdown",
      "metadata": {
        "id": "bufLl61CO3Nz"
      },
      "source": [
        "Si intende predire i valori di umidità del suolo sulla costa a partire dalle temperature del mare nei punti più vicini, tramite una rete neurale.\n",
        "\n",
        "L'architettura della rete è molto semplice e prevede la presenza di due livelli nascosti con dimensione di 8 e 16 neuroni. La rete viene addestrata con batch di dimensione 100 per 5 epoche.\n",
        "\n",
        "Selezionare le regioni sulle quali effettuare il training, e quelle sulle quali effettuare la valutazione in una determinata data. Le date possibili vanno dal 2016-01-01 al 2016-12-31. Infine premere il tasto play per avviare l'esecuzione della cella."
      ]
    },
    {
      "cell_type": "code",
      "metadata": {
        "colab": {
          "base_uri": "https://localhost:8080/",
          "height": 1082
        },
        "cellView": "form",
        "id": "aqLXd2P9OybP",
        "outputId": "9edee586-b979-4283-a329-7315114003f7"
      },
      "source": [
        "#@markdown Training\n",
        "train_Adriatic = True #@param {type:\"boolean\"}\n",
        "train_Ionian = True #@param {type:\"boolean\"}\n",
        "train_Tyrrhenian = False #@param {type:\"boolean\"}\n",
        "train_Labrador = False #@param {type:\"boolean\"}\n",
        "train_Red = False #@param {type:\"boolean\"}\n",
        "#@markdown Test\n",
        "date_str = '2016-01-01' #@param {type:\"date\"}\n",
        "test_Adriatic = False #@param {type:\"boolean\"}\n",
        "test_Ionian = False #@param {type:\"boolean\"}\n",
        "test_Tyrrhenian = True #@param {type:\"boolean\"}\n",
        "test_Labrador = False #@param {type:\"boolean\"}\n",
        "test_Red = False #@param {type:\"boolean\"}\n",
        "\n",
        "train_list = []\n",
        "test_list = []\n",
        "if train_Adriatic:\n",
        "  train_list = train_list + [\"Adriatic\"]\n",
        "if train_Ionian:\n",
        "  train_list = train_list + [\"Ionian\"]\n",
        "if train_Tyrrhenian:\n",
        "  train_list = train_list + [\"Tyrrhenian\"]\n",
        "if train_Labrador:\n",
        "  train_list = train_list + [\"Labrador\"]\n",
        "if test_Red:\n",
        "  test_list = test_list + [\"Red\"]\n",
        "if test_Adriatic:\n",
        "  test_list = test_list + [\"Adriatic\"]\n",
        "if test_Ionian:\n",
        "  test_list = test_list + [\"Ionian\"]\n",
        "if test_Tyrrhenian:\n",
        "  test_list = test_list + [\"Tyrrhenian\"]\n",
        "if test_Labrador:\n",
        "  test_list = test_list + [\"Labrador\"]\n",
        "if test_Red:\n",
        "  test_list = test_list + [\"Red\"]\n",
        "\n",
        "current_date = datetime.strptime(date_str + \" 12:00:00\", '%Y-%m-%d %H:%M:%S')\n",
        "\n",
        "if (current_date < datetime.strptime(\"2016-01-01 12:00:00\", '%Y-%m-%d %H:%M:%S')) | (current_date > datetime.strptime(\"2016-12-31 12:00:00\", '%Y-%m-%d %H:%M:%S')):\n",
        "  sys.exit(\"Data non valida. Inserire data compresa fra 2016-01-01 e 2016-12-31\")\n",
        "\n",
        "data = pd.read_csv(\"/content/soil_moisture_2016.csv\")\n",
        "data.time = pd.to_datetime(data.time)\n",
        "train_data = data.loc[data['sea'].isin(train_list)]\n",
        "test_data = data.loc[((data['sea'].isin(test_list)) & (data['time'] == current_date))]\n",
        "\n",
        "train_sst = train_data.sst.to_numpy().reshape(-1, 1)\n",
        "train_sm = train_data.sm.to_numpy()\n",
        "test_sst = test_data.sst.to_numpy().reshape(-1, 1)\n",
        "test_sm = test_data.sm.to_numpy()\n",
        "\n",
        "# Feature scaling\n",
        "sc = StandardScaler()\n",
        "train_sst = sc.fit_transform(train_sst)\n",
        "test_sst = sc.transform(test_sst)\n",
        "\n",
        "# Model\n",
        "model = Sequential()\n",
        "model.add(Dense(8, activation = 'relu', input_dim = 1))\n",
        "model.add(Dense(units = 16, activation = 'relu'))\n",
        "model.add(Dense(units = 1))\n",
        "\n",
        "model.compile(optimizer = 'adam', loss = 'mean_squared_error')\n",
        "\n",
        "# Training\n",
        "model.fit(train_sst, train_sm, batch_size = 100, epochs = 5)\n",
        "\n",
        "prediction = model.predict(test_sst).reshape(-1)\n",
        "\n",
        "for i in range(test_sm.shape[0]):\n",
        "  plt.plot([test_sst[i],test_sst[i]], [test_sm[i],prediction[i]], '--b')\n",
        "plt.scatter(test_sst, test_sm, color='black', label='Observation')\n",
        "plt.scatter(test_sst, prediction, color='blue', label='Prediction')\n",
        "plt.xlabel('Temperature')\n",
        "plt.ylabel('Albedo')\n",
        "plt.legend()\n",
        "plt.show()\n",
        "\n",
        "results = pd.DataFrame({\"Observed albedo\": test_sm, \"Predicted albedo\": prediction, \"Error\": np.abs(test_sm - prediction)})\n",
        "print(\"Mean Squared Error: \", mean_squared_error(test_sm, prediction))\n",
        "results"
      ],
      "execution_count": 3,
      "outputs": [
        {
          "output_type": "stream",
          "text": [
            "Epoch 1/5\n",
            "597/597 [==============================] - 1s 970us/step - loss: 0.0132\n",
            "Epoch 2/5\n",
            "597/597 [==============================] - 1s 884us/step - loss: 0.0040\n",
            "Epoch 3/5\n",
            "597/597 [==============================] - 1s 941us/step - loss: 0.0040\n",
            "Epoch 4/5\n",
            "597/597 [==============================] - 1s 884us/step - loss: 0.0040\n",
            "Epoch 5/5\n",
            "597/597 [==============================] - 1s 877us/step - loss: 0.0040\n"
          ],
          "name": "stdout"
        },
        {
          "output_type": "display_data",
          "data": {
            "image/png": "[encoded data removed]",
            "text/plain": [
              "<Figure size 432x288 with 1 Axes>"
            ]
          },
          "metadata": {
            "tags": [],
            "needs_background": "light"
          }
        },
        {
          "output_type": "stream",
          "text": [
            "Mean Squared Error:  0.00197394164579254\n"
          ],
          "name": "stdout"
        },
        {
          "output_type": "execute_result",
          "data": {
            "application/vnd.google.colaboratory.module+javascript": "\n      import \"https://ssl.gstatic.com/colaboratory/data_table/a6224c040fa35dcf/data_table.js\";\n\n      window.createDataTable({\n        data: [[{\n            'v': 0,\n            'f': \"0\",\n        },\n{\n            'v': 0.28148812055587796,\n            'f': \"0.28148812055587796\",\n        },\n{\n            'v': 0.29443663358688354,\n            'f': \"0.29443663358688354\",\n        },\n{\n            'v': 0.012948513031005582,\n            'f': \"0.012948513031005582\",\n        }],\n [{\n            'v': 1,\n            'f': \"1\",\n        },\n{\n            'v': 0.28148812055587796,\n            'f': \"0.28148812055587796\",\n        },\n{\n            'v': 0.2923796772956848,\n            'f': \"0.2923796772956848\",\n        },\n{\n            'v': 0.010891556739806851,\n            'f': \"0.010891556739806851\",\n        }],\n [{\n            'v': 2,\n            'f': \"2\",\n        },\n{\n            'v': 0.28148812055587796,\n            'f': \"0.28148812055587796\",\n        },\n{\n            'v': 0.2919878661632538,\n            'f': \"0.2919878661632538\",\n        },\n{\n            'v': 0.010499745607375821,\n            'f': \"0.010499745607375821\",\n        }],\n [{\n            'v': 3,\n            'f': \"3\",\n        },\n{\n            'v': 0.28389200568199197,\n            'f': \"0.28389200568199197\",\n        },\n{\n            'v': 0.2896370589733124,\n            'f': \"0.2896370589733124\",\n        },\n{\n            'v': 0.005745053291320412,\n            'f': \"0.005745053291320412\",\n        }],\n [{\n            'v': 4,\n            'f': \"4\",\n        },\n{\n            'v': 0.28389200568199197,\n            'f': \"0.28389200568199197\",\n        },\n{\n            'v': 0.28855961561203003,\n            'f': \"0.28855961561203003\",\n        },\n{\n            'v': 0.004667609930038064,\n            'f': \"0.004667609930038064\",\n        }],\n [{\n            'v': 5,\n            'f': \"5\",\n        },\n{\n            'v': 0.28604412078857394,\n            'f': \"0.28604412078857394\",\n        },\n{\n            'v': 0.2878739535808563,\n            'f': \"0.2878739535808563\",\n        },\n{\n            'v': 0.001829832792282382,\n            'f': \"0.001829832792282382\",\n        }],\n [{\n            'v': 6,\n            'f': \"6\",\n        },\n{\n            'v': 0.335055619478226,\n            'f': \"0.335055619478226\",\n        },\n{\n            'v': 0.289049357175827,\n            'f': \"0.289049357175827\",\n        },\n{\n            'v': 0.04600626230239896,\n            'f': \"0.04600626230239896\",\n        }],\n [{\n            'v': 7,\n            'f': \"7\",\n        },\n{\n            'v': 0.316793829202652,\n            'f': \"0.316793829202652\",\n        },\n{\n            'v': 0.28973501920700073,\n            'f': \"0.28973501920700073\",\n        },\n{\n            'v': 0.027058809995651245,\n            'f': \"0.027058809995651245\",\n        }],\n [{\n            'v': 8,\n            'f': \"8\",\n        },\n{\n            'v': 0.332237958908081,\n            'f': \"0.332237958908081\",\n        },\n{\n            'v': 0.28944116830825806,\n            'f': \"0.28944116830825806\",\n        },\n{\n            'v': 0.04279679059982294,\n            'f': \"0.04279679059982294\",\n        }],\n [{\n            'v': 9,\n            'f': \"9\",\n        },\n{\n            'v': 0.28389200568199197,\n            'f': \"0.28389200568199197\",\n        },\n{\n            'v': 0.2903227210044861,\n            'f': \"0.2903227210044861\",\n        },\n{\n            'v': 0.006430715322494118,\n            'f': \"0.006430715322494118\",\n        }],\n [{\n            'v': 10,\n            'f': \"10\",\n        },\n{\n            'v': 0.36448013782501204,\n            'f': \"0.36448013782501204\",\n        },\n{\n            'v': 0.28660061955451965,\n            'f': \"0.28660061955451965\",\n        },\n{\n            'v': 0.07787951827049239,\n            'f': \"0.07787951827049239\",\n        }],\n [{\n            'v': 11,\n            'f': \"11\",\n        },\n{\n            'v': 0.28717914223671,\n            'f': \"0.28717914223671\",\n        },\n{\n            'v': 0.28709036111831665,\n            'f': \"0.28709036111831665\",\n        },\n{\n            'v': 8.878111839333291e-05,\n            'f': \"8.878111839333291e-05\",\n        }],\n [{\n            'v': 12,\n            'f': \"12\",\n        },\n{\n            'v': 0.20758785307407399,\n            'f': \"0.20758785307407399\",\n        },\n{\n            'v': 0.2873842120170593,\n            'f': \"0.2873842120170593\",\n        },\n{\n            'v': 0.07979635894298534,\n            'f': \"0.07979635894298534\",\n        }],\n [{\n            'v': 13,\n            'f': \"13\",\n        },\n{\n            'v': 0.20758785307407399,\n            'f': \"0.20758785307407399\",\n        },\n{\n            'v': 0.28777602314949036,\n            'f': \"0.28777602314949036\",\n        },\n{\n            'v': 0.08018817007541637,\n            'f': \"0.08018817007541637\",\n        }],\n [{\n            'v': 14,\n            'f': \"14\",\n        },\n{\n            'v': 0.28389200568199197,\n            'f': \"0.28389200568199197\",\n        },\n{\n            'v': 0.28973501920700073,\n            'f': \"0.28973501920700073\",\n        },\n{\n            'v': 0.005843013525008767,\n            'f': \"0.005843013525008767\",\n        }],\n [{\n            'v': 15,\n            'f': \"15\",\n        },\n{\n            'v': 0.316793829202652,\n            'f': \"0.316793829202652\",\n        },\n{\n            'v': 0.2850334048271179,\n            'f': \"0.2850334048271179\",\n        },\n{\n            'v': 0.03176042437553406,\n            'f': \"0.03176042437553406\",\n        }],\n [{\n            'v': 16,\n            'f': \"16\",\n        },\n{\n            'v': 0.332237958908081,\n            'f': \"0.332237958908081\",\n        },\n{\n            'v': 0.28542518615722656,\n            'f': \"0.28542518615722656\",\n        },\n{\n            'v': 0.04681277275085444,\n            'f': \"0.04681277275085444\",\n        }],\n [{\n            'v': 17,\n            'f': \"17\",\n        },\n{\n            'v': 0.36448013782501204,\n            'f': \"0.36448013782501204\",\n        },\n{\n            'v': 0.28581702709198,\n            'f': \"0.28581702709198\",\n        },\n{\n            'v': 0.07866311073303206,\n            'f': \"0.07866311073303206\",\n        }],\n [{\n            'v': 18,\n            'f': \"18\",\n        },\n{\n            'v': 0.28717914223671,\n            'f': \"0.28717914223671\",\n        },\n{\n            'v': 0.2865026593208313,\n            'f': \"0.2865026593208313\",\n        },\n{\n            'v': 0.0006764829158786845,\n            'f': \"0.0006764829158786845\",\n        }],\n [{\n            'v': 19,\n            'f': \"19\",\n        },\n{\n            'v': 0.20758785307407399,\n            'f': \"0.20758785307407399\",\n        },\n{\n            'v': 0.287678062915802,\n            'f': \"0.287678062915802\",\n        },\n{\n            'v': 0.08009020984172802,\n            'f': \"0.08009020984172802\",\n        }],\n [{\n            'v': 20,\n            'f': \"20\",\n        },\n{\n            'v': 0.20758785307407399,\n            'f': \"0.20758785307407399\",\n        },\n{\n            'v': 0.2862088084220886,\n            'f': \"0.2862088084220886\",\n        },\n{\n            'v': 0.07862095534801464,\n            'f': \"0.07862095534801464\",\n        }],\n [{\n            'v': 21,\n            'f': \"21\",\n        },\n{\n            'v': 0.265792042016983,\n            'f': \"0.265792042016983\",\n        },\n{\n            'v': 0.28758013248443604,\n            'f': \"0.28758013248443604\",\n        },\n{\n            'v': 0.02178809046745306,\n            'f': \"0.02178809046745306\",\n        }],\n [{\n            'v': 22,\n            'f': \"22\",\n        },\n{\n            'v': 0.166300922632217,\n            'f': \"0.166300922632217\",\n        },\n{\n            'v': 0.28493547439575195,\n            'f': \"0.28493547439575195\",\n        },\n{\n            'v': 0.11863455176353496,\n            'f': \"0.11863455176353496\",\n        }],\n [{\n            'v': 23,\n            'f': \"23\",\n        },\n{\n            'v': 0.268810123205185,\n            'f': \"0.268810123205185\",\n        },\n{\n            'v': 0.29179197549819946,\n            'f': \"0.29179197549819946\",\n        },\n{\n            'v': 0.02298185229301447,\n            'f': \"0.02298185229301447\",\n        }],\n [{\n            'v': 24,\n            'f': \"24\",\n        },\n{\n            'v': 0.268810123205185,\n            'f': \"0.268810123205185\",\n        },\n{\n            'v': 0.29208582639694214,\n            'f': \"0.29208582639694214\",\n        },\n{\n            'v': 0.023275703191757147,\n            'f': \"0.023275703191757147\",\n        }],\n [{\n            'v': 25,\n            'f': \"25\",\n        },\n{\n            'v': 0.268810123205185,\n            'f': \"0.268810123205185\",\n        },\n{\n            'v': 0.29277145862579346,\n            'f': \"0.29277145862579346\",\n        },\n{\n            'v': 0.023961335420608465,\n            'f': \"0.023961335420608465\",\n        }],\n [{\n            'v': 26,\n            'f': \"26\",\n        },\n{\n            'v': 0.20569252967834498,\n            'f': \"0.20569252967834498\",\n        },\n{\n            'v': 0.2848375141620636,\n            'f': \"0.2848375141620636\",\n        },\n{\n            'v': 0.07914498448371862,\n            'f': \"0.07914498448371862\",\n        }],\n [{\n            'v': 27,\n            'f': \"27\",\n        },\n{\n            'v': 0.268810123205185,\n            'f': \"0.268810123205185\",\n        },\n{\n            'v': 0.2921837568283081,\n            'f': \"0.2921837568283081\",\n        },\n{\n            'v': 0.023373633623123113,\n            'f': \"0.023373633623123113\",\n        }],\n [{\n            'v': 28,\n            'f': \"28\",\n        },\n{\n            'v': 0.291485220193863,\n            'f': \"0.291485220193863\",\n        },\n{\n            'v': 0.28581702709198,\n            'f': \"0.28581702709198\",\n        },\n{\n            'v': 0.005668193101883046,\n            'f': \"0.005668193101883046\",\n        }],\n [{\n            'v': 29,\n            'f': \"29\",\n        },\n{\n            'v': 0.26232826709747303,\n            'f': \"0.26232826709747303\",\n        },\n{\n            'v': 0.2903227210044861,\n            'f': \"0.2903227210044861\",\n        },\n{\n            'v': 0.02799445390701305,\n            'f': \"0.02799445390701305\",\n        }],\n [{\n            'v': 30,\n            'f': \"30\",\n        },\n{\n            'v': 0.291485220193863,\n            'f': \"0.291485220193863\",\n        },\n{\n            'v': 0.2874821722507477,\n            'f': \"0.2874821722507477\",\n        },\n{\n            'v': 0.004003047943115345,\n            'f': \"0.004003047943115345\",\n        }],\n [{\n            'v': 31,\n            'f': \"31\",\n        },\n{\n            'v': 0.241898030042648,\n            'f': \"0.241898030042648\",\n        },\n{\n            'v': 0.29042065143585205,\n            'f': \"0.29042065143585205\",\n        },\n{\n            'v': 0.04852262139320404,\n            'f': \"0.04852262139320404\",\n        }],\n [{\n            'v': 32,\n            'f': \"32\",\n        },\n{\n            'v': 0.19658142328262304,\n            'f': \"0.19658142328262304\",\n        },\n{\n            'v': 0.2878739535808563,\n            'f': \"0.2878739535808563\",\n        },\n{\n            'v': 0.09129253029823328,\n            'f': \"0.09129253029823328\",\n        }],\n [{\n            'v': 33,\n            'f': \"33\",\n        },\n{\n            'v': 0.19658142328262304,\n            'f': \"0.19658142328262304\",\n        },\n{\n            'v': 0.28895139694213867,\n            'f': \"0.28895139694213867\",\n        },\n{\n            'v': 0.09236997365951563,\n            'f': \"0.09236997365951563\",\n        }],\n [{\n            'v': 34,\n            'f': \"34\",\n        },\n{\n            'v': 0.241898030042648,\n            'f': \"0.241898030042648\",\n        },\n{\n            'v': 0.29110634326934814,\n            'f': \"0.29110634326934814\",\n        },\n{\n            'v': 0.049208313226700134,\n            'f': \"0.049208313226700134\",\n        }],\n [{\n            'v': 35,\n            'f': \"35\",\n        },\n{\n            'v': 0.247157528996468,\n            'f': \"0.247157528996468\",\n        },\n{\n            'v': 0.2879719138145447,\n            'f': \"0.2879719138145447\",\n        },\n{\n            'v': 0.04081438481807667,\n            'f': \"0.04081438481807667\",\n        }],\n [{\n            'v': 36,\n            'f': \"36\",\n        },\n{\n            'v': 0.247157528996468,\n            'f': \"0.247157528996468\",\n        },\n{\n            'v': 0.2898329496383667,\n            'f': \"0.2898329496383667\",\n        },\n{\n            'v': 0.04267542064189869,\n            'f': \"0.04267542064189869\",\n        }],\n [{\n            'v': 37,\n            'f': \"37\",\n        },\n{\n            'v': 0.241898030042648,\n            'f': \"0.241898030042648\",\n        },\n{\n            'v': 0.29296737909317017,\n            'f': \"0.29296737909317017\",\n        },\n{\n            'v': 0.051069349050522156,\n            'f': \"0.051069349050522156\",\n        }],\n [{\n            'v': 38,\n            'f': \"38\",\n        },\n{\n            'v': 0.299641162157059,\n            'f': \"0.299641162157059\",\n        },\n{\n            'v': 0.286796510219574,\n            'f': \"0.286796510219574\",\n        },\n{\n            'v': 0.012844651937485019,\n            'f': \"0.012844651937485019\",\n        }],\n [{\n            'v': 39,\n            'f': \"39\",\n        },\n{\n            'v': 0.289241254329681,\n            'f': \"0.289241254329681\",\n        },\n{\n            'v': 0.28924524784088135,\n            'f': \"0.28924524784088135\",\n        },\n{\n            'v': 3.99351120033975e-06,\n            'f': \"3.99351120033975e-06\",\n        }],\n [{\n            'v': 40,\n            'f': \"40\",\n        },\n{\n            'v': 0.262248367071152,\n            'f': \"0.262248367071152\",\n        },\n{\n            'v': 0.2961997389793396,\n            'f': \"0.2961997389793396\",\n        },\n{\n            'v': 0.03395137190818759,\n            'f': \"0.03395137190818759\",\n        }],\n [{\n            'v': 41,\n            'f': \"41\",\n        },\n{\n            'v': 0.18296298384666398,\n            'f': \"0.18296298384666398\",\n        },\n{\n            'v': 0.2888534665107727,\n            'f': \"0.2888534665107727\",\n        },\n{\n            'v': 0.10589048266410872,\n            'f': \"0.10589048266410872\",\n        }],\n [{\n            'v': 42,\n            'f': \"42\",\n        },\n{\n            'v': 0.299641162157059,\n            'f': \"0.299641162157059\",\n        },\n{\n            'v': 0.28728628158569336,\n            'f': \"0.28728628158569336\",\n        },\n{\n            'v': 0.012354880571365634,\n            'f': \"0.012354880571365634\",\n        }],\n [{\n            'v': 43,\n            'f': \"43\",\n        },\n{\n            'v': 0.27116215229034396,\n            'f': \"0.27116215229034396\",\n        },\n{\n            'v': 0.2871882915496826,\n            'f': \"0.2871882915496826\",\n        },\n{\n            'v': 0.016026139259338656,\n            'f': \"0.016026139259338656\",\n        }],\n [{\n            'v': 44,\n            'f': \"44\",\n        },\n{\n            'v': 0.263889700174332,\n            'f': \"0.263889700174332\",\n        },\n{\n            'v': 0.3002156615257263,\n            'f': \"0.3002156615257263\",\n        },\n{\n            'v': 0.03632596135139432,\n            'f': \"0.03632596135139432\",\n        }],\n [{\n            'v': 45,\n            'f': \"45\",\n        },\n{\n            'v': 0.337968170642853,\n            'f': \"0.337968170642853\",\n        },\n{\n            'v': 0.290518581867218,\n            'f': \"0.290518581867218\",\n        },\n{\n            'v': 0.04744958877563499,\n            'f': \"0.04744958877563499\",\n        }],\n [{\n            'v': 46,\n            'f': \"46\",\n        },\n{\n            'v': 0.337968170642853,\n            'f': \"0.337968170642853\",\n        },\n{\n            'v': 0.2900288701057434,\n            'f': \"0.2900288701057434\",\n        },\n{\n            'v': 0.0479393005371096,\n            'f': \"0.0479393005371096\",\n        }],\n [{\n            'v': 47,\n            'f': \"47\",\n        },\n{\n            'v': 0.337968170642853,\n            'f': \"0.337968170642853\",\n        },\n{\n            'v': 0.289539098739624,\n            'f': \"0.289539098739624\",\n        },\n{\n            'v': 0.04842907190322898,\n            'f': \"0.04842907190322898\",\n        }],\n [{\n            'v': 48,\n            'f': \"48\",\n        },\n{\n            'v': 0.18296298384666398,\n            'f': \"0.18296298384666398\",\n        },\n{\n            'v': 0.28924524784088135,\n            'f': \"0.28924524784088135\",\n        },\n{\n            'v': 0.10628226399421736,\n            'f': \"0.10628226399421736\",\n        }],\n [{\n            'v': 49,\n            'f': \"49\",\n        },\n{\n            'v': 0.263889700174332,\n            'f': \"0.263889700174332\",\n        },\n{\n            'v': 0.30011770129203796,\n            'f': \"0.30011770129203796\",\n        },\n{\n            'v': 0.036228001117705966,\n            'f': \"0.036228001117705966\",\n        }],\n [{\n            'v': 50,\n            'f': \"50\",\n        },\n{\n            'v': 0.337968170642853,\n            'f': \"0.337968170642853\",\n        },\n{\n            'v': 0.29022476077079773,\n            'f': \"0.29022476077079773\",\n        },\n{\n            'v': 0.047743409872055276,\n            'f': \"0.047743409872055276\",\n        }],\n [{\n            'v': 51,\n            'f': \"51\",\n        },\n{\n            'v': 0.337968170642853,\n            'f': \"0.337968170642853\",\n        },\n{\n            'v': 0.29012683033943176,\n            'f': \"0.29012683033943176\",\n        },\n{\n            'v': 0.04784134030342124,\n            'f': \"0.04784134030342124\",\n        }],\n [{\n            'v': 52,\n            'f': \"52\",\n        },\n{\n            'v': 0.35579189658165,\n            'f': \"0.35579189658165\",\n        },\n{\n            'v': 0.2900288701057434,\n            'f': \"0.2900288701057434\",\n        },\n{\n            'v': 0.0657630264759066,\n            'f': \"0.0657630264759066\",\n        }],\n [{\n            'v': 53,\n            'f': \"53\",\n        },\n{\n            'v': 0.263584136962891,\n            'f': \"0.263584136962891\",\n        },\n{\n            'v': 0.29708126187324524,\n            'f': \"0.29708126187324524\",\n        },\n{\n            'v': 0.033497124910354226,\n            'f': \"0.033497124910354226\",\n        }],\n [{\n            'v': 54,\n            'f': \"54\",\n        },\n{\n            'v': 0.263889700174332,\n            'f': \"0.263889700174332\",\n        },\n{\n            'v': 0.2981587052345276,\n            'f': \"0.2981587052345276\",\n        },\n{\n            'v': 0.03426900506019559,\n            'f': \"0.03426900506019559\",\n        }],\n [{\n            'v': 55,\n            'f': \"55\",\n        },\n{\n            'v': 0.30290055274963396,\n            'f': \"0.30290055274963396\",\n        },\n{\n            'v': 0.29179197549819946,\n            'f': \"0.29179197549819946\",\n        },\n{\n            'v': 0.011108577251434493,\n            'f': \"0.011108577251434493\",\n        }],\n [{\n            'v': 56,\n            'f': \"56\",\n        },\n{\n            'v': 0.30290055274963396,\n            'f': \"0.30290055274963396\",\n        },\n{\n            'v': 0.29140016436576843,\n            'f': \"0.29140016436576843\",\n        },\n{\n            'v': 0.011500388383865523,\n            'f': \"0.011500388383865523\",\n        }],\n [{\n            'v': 57,\n            'f': \"57\",\n        },\n{\n            'v': 0.263889700174332,\n            'f': \"0.263889700174332\",\n        },\n{\n            'v': 0.2990402579307556,\n            'f': \"0.2990402579307556\",\n        },\n{\n            'v': 0.03515055775642362,\n            'f': \"0.03515055775642362\",\n        }],\n [{\n            'v': 58,\n            'f': \"58\",\n        },\n{\n            'v': 0.26282835006713895,\n            'f': \"0.26282835006713895\",\n        },\n{\n            'v': 0.2938489317893982,\n            'f': \"0.2938489317893982\",\n        },\n{\n            'v': 0.031020581722259244,\n            'f': \"0.031020581722259244\",\n        }],\n [{\n            'v': 59,\n            'f': \"59\",\n        },\n{\n            'v': 0.26282835006713895,\n            'f': \"0.26282835006713895\",\n        },\n{\n            'v': 0.2933591604232788,\n            'f': \"0.2933591604232788\",\n        },\n{\n            'v': 0.03053081035613986,\n            'f': \"0.03053081035613986\",\n        }],\n [{\n            'v': 60,\n            'f': \"60\",\n        },\n{\n            'v': 0.263889700174332,\n            'f': \"0.263889700174332\",\n        },\n{\n            'v': 0.30090129375457764,\n            'f': \"0.30090129375457764\",\n        },\n{\n            'v': 0.03701159358024564,\n            'f': \"0.03701159358024564\",\n        }],\n [{\n            'v': 61,\n            'f': \"61\",\n        },\n{\n            'v': 0.26282835006713895,\n            'f': \"0.26282835006713895\",\n        },\n{\n            'v': 0.29512226581573486,\n            'f': \"0.29512226581573486\",\n        },\n{\n            'v': 0.032293915748595914,\n            'f': \"0.032293915748595914\",\n        }],\n [{\n            'v': 62,\n            'f': \"62\",\n        },\n{\n            'v': 0.26282835006713895,\n            'f': \"0.26282835006713895\",\n        },\n{\n            'v': 0.2943386435508728,\n            'f': \"0.2943386435508728\",\n        },\n{\n            'v': 0.03151029348373385,\n            'f': \"0.03151029348373385\",\n        }],\n [{\n            'v': 63,\n            'f': \"63\",\n        },\n{\n            'v': 0.263889700174332,\n            'f': \"0.263889700174332\",\n        },\n{\n            'v': 0.2988443970680237,\n            'f': \"0.2988443970680237\",\n        },\n{\n            'v': 0.034954696893691684,\n            'f': \"0.034954696893691684\",\n        }],\n [{\n            'v': 64,\n            'f': \"64\",\n        },\n{\n            'v': 0.24216981232166299,\n            'f': \"0.24216981232166299\",\n        },\n{\n            'v': 0.2959058880805969,\n            'f': \"0.2959058880805969\",\n        },\n{\n            'v': 0.05373607575893394,\n            'f': \"0.05373607575893394\",\n        }],\n [{\n            'v': 65,\n            'f': \"65\",\n        },\n{\n            'v': 0.225372314453125,\n            'f': \"0.225372314453125\",\n        },\n{\n            'v': 0.2953181564807892,\n            'f': \"0.2953181564807892\",\n        },\n{\n            'v': 0.06994584202766418,\n            'f': \"0.06994584202766418\",\n        }],\n [{\n            'v': 66,\n            'f': \"66\",\n        },\n{\n            'v': 0.265974640846252,\n            'f': \"0.265974640846252\",\n        },\n{\n            'v': 0.29796281456947327,\n            'f': \"0.29796281456947327\",\n        },\n{\n            'v': 0.03198817372322127,\n            'f': \"0.03198817372322127\",\n        }],\n [{\n            'v': 67,\n            'f': \"67\",\n        },\n{\n            'v': 0.265974640846252,\n            'f': \"0.265974640846252\",\n        },\n{\n            'v': 0.2959058880805969,\n            'f': \"0.2959058880805969\",\n        },\n{\n            'v': 0.029931247234344927,\n            'f': \"0.029931247234344927\",\n        }],\n [{\n            'v': 68,\n            'f': \"68\",\n        },\n{\n            'v': 0.265974640846252,\n            'f': \"0.265974640846252\",\n        },\n{\n            'v': 0.2948284149169922,\n            'f': \"0.2948284149169922\",\n        },\n{\n            'v': 0.02885377407074019,\n            'f': \"0.02885377407074019\",\n        }],\n [{\n            'v': 69,\n            'f': \"69\",\n        },\n{\n            'v': 0.265974640846252,\n            'f': \"0.265974640846252\",\n        },\n{\n            'v': 0.29580792784690857,\n            'f': \"0.29580792784690857\",\n        },\n{\n            'v': 0.029833287000656572,\n            'f': \"0.029833287000656572\",\n        }],\n [{\n            'v': 70,\n            'f': \"70\",\n        },\n{\n            'v': 0.24216981232166299,\n            'f': \"0.24216981232166299\",\n        },\n{\n            'v': 0.2957099676132202,\n            'f': \"0.2957099676132202\",\n        },\n{\n            'v': 0.05354015529155723,\n            'f': \"0.05354015529155723\",\n        }],\n [{\n            'v': 71,\n            'f': \"71\",\n        },\n{\n            'v': 0.24216981232166299,\n            'f': \"0.24216981232166299\",\n        },\n{\n            'v': 0.29727718234062195,\n            'f': \"0.29727718234062195\",\n        },\n{\n            'v': 0.05510737001895896,\n            'f': \"0.05510737001895896\",\n        }],\n [{\n            'v': 72,\n            'f': \"72\",\n        },\n{\n            'v': 0.311071127653122,\n            'f': \"0.311071127653122\",\n        },\n{\n            'v': 0.29757100343704224,\n            'f': \"0.29757100343704224\",\n        },\n{\n            'v': 0.013500124216079767,\n            'f': \"0.013500124216079767\",\n        }],\n [{\n            'v': 73,\n            'f': \"73\",\n        },\n{\n            'v': 0.265974640846252,\n            'f': \"0.265974640846252\",\n        },\n{\n            'v': 0.2953181564807892,\n            'f': \"0.2953181564807892\",\n        },\n{\n            'v': 0.029343515634537187,\n            'f': \"0.029343515634537187\",\n        }],\n [{\n            'v': 74,\n            'f': \"74\",\n        },\n{\n            'v': 0.265974640846252,\n            'f': \"0.265974640846252\",\n        },\n{\n            'v': 0.2948284149169922,\n            'f': \"0.2948284149169922\",\n        },\n{\n            'v': 0.02885377407074019,\n            'f': \"0.02885377407074019\",\n        }],\n [{\n            'v': 75,\n            'f': \"75\",\n        },\n{\n            'v': 0.265974640846252,\n            'f': \"0.265974640846252\",\n        },\n{\n            'v': 0.2971792221069336,\n            'f': \"0.2971792221069336\",\n        },\n{\n            'v': 0.031204581260681596,\n            'f': \"0.031204581260681596\",\n        }],\n [{\n            'v': 76,\n            'f': \"76\",\n        },\n{\n            'v': 0.311071127653122,\n            'f': \"0.311071127653122\",\n        },\n{\n            'v': 0.29747307300567627,\n            'f': \"0.29747307300567627\",\n        },\n{\n            'v': 0.013598054647445734,\n            'f': \"0.013598054647445734\",\n        }],\n [{\n            'v': 77,\n            'f': \"77\",\n        },\n{\n            'v': 0.311071127653122,\n            'f': \"0.311071127653122\",\n        },\n{\n            'v': 0.2959058880805969,\n            'f': \"0.2959058880805969\",\n        },\n{\n            'v': 0.01516523957252508,\n            'f': \"0.01516523957252508\",\n        }],\n [{\n            'v': 78,\n            'f': \"78\",\n        },\n{\n            'v': 0.265974640846252,\n            'f': \"0.265974640846252\",\n        },\n{\n            'v': 0.2957099676132202,\n            'f': \"0.2957099676132202\",\n        },\n{\n            'v': 0.029735326766968218,\n            'f': \"0.029735326766968218\",\n        }],\n [{\n            'v': 79,\n            'f': \"79\",\n        },\n{\n            'v': 0.265974640846252,\n            'f': \"0.265974640846252\",\n        },\n{\n            'v': 0.29678741097450256,\n            'f': \"0.29678741097450256\",\n        },\n{\n            'v': 0.030812770128250566,\n            'f': \"0.030812770128250566\",\n        }],\n [{\n            'v': 80,\n            'f': \"80\",\n        },\n{\n            'v': 0.311071127653122,\n            'f': \"0.311071127653122\",\n        },\n{\n            'v': 0.2973751425743103,\n            'f': \"0.2973751425743103\",\n        },\n{\n            'v': 0.013695985078811701,\n            'f': \"0.013695985078811701\",\n        }],\n [{\n            'v': 81,\n            'f': \"81\",\n        },\n{\n            'v': 0.311071127653122,\n            'f': \"0.311071127653122\",\n        },\n{\n            'v': 0.29678741097450256,\n            'f': \"0.29678741097450256\",\n        },\n{\n            'v': 0.01428371667861944,\n            'f': \"0.01428371667861944\",\n        }],\n [{\n            'v': 82,\n            'f': \"82\",\n        },\n{\n            'v': 0.311071127653122,\n            'f': \"0.311071127653122\",\n        },\n{\n            'v': 0.29561203718185425,\n            'f': \"0.29561203718185425\",\n        },\n{\n            'v': 0.015459090471267756,\n            'f': \"0.015459090471267756\",\n        }],\n [{\n            'v': 83,\n            'f': \"83\",\n        },\n{\n            'v': 0.327888518571854,\n            'f': \"0.327888518571854\",\n        },\n{\n            'v': 0.29629766941070557,\n            'f': \"0.29629766941070557\",\n        },\n{\n            'v': 0.03159084916114846,\n            'f': \"0.03159084916114846\",\n        }],\n [{\n            'v': 84,\n            'f': \"84\",\n        },\n{\n            'v': 0.29526615142822304,\n            'f': \"0.29526615142822304\",\n        },\n{\n            'v': 0.2959058880805969,\n            'f': \"0.2959058880805969\",\n        },\n{\n            'v': 0.000639736652373879,\n            'f': \"0.000639736652373879\",\n        }],\n [{\n            'v': 85,\n            'f': \"85\",\n        },\n{\n            'v': 0.311071127653122,\n            'f': \"0.311071127653122\",\n        },\n{\n            'v': 0.29629766941070557,\n            'f': \"0.29629766941070557\",\n        },\n{\n            'v': 0.014773458242416437,\n            'f': \"0.014773458242416437\",\n        }],\n [{\n            'v': 86,\n            'f': \"86\",\n        },\n{\n            'v': 0.327888518571854,\n            'f': \"0.327888518571854\",\n        },\n{\n            'v': 0.2959058880805969,\n            'f': \"0.2959058880805969\",\n        },\n{\n            'v': 0.0319826304912571,\n            'f': \"0.0319826304912571\",\n        }],\n [{\n            'v': 87,\n            'f': \"87\",\n        },\n{\n            'v': 0.29526615142822304,\n            'f': \"0.29526615142822304\",\n        },\n{\n            'v': 0.29678741097450256,\n            'f': \"0.29678741097450256\",\n        },\n{\n            'v': 0.0015212595462795186,\n            'f': \"0.0015212595462795186\",\n        }],\n [{\n            'v': 88,\n            'f': \"88\",\n        },\n{\n            'v': 0.327888518571854,\n            'f': \"0.327888518571854\",\n        },\n{\n            'v': 0.29727715253829956,\n            'f': \"0.29727715253829956\",\n        },\n{\n            'v': 0.030611366033554466,\n            'f': \"0.030611366033554466\",\n        }],\n [{\n            'v': 89,\n            'f': \"89\",\n        },\n{\n            'v': 0.327888518571854,\n            'f': \"0.327888518571854\",\n        },\n{\n            'v': 0.2991381883621216,\n            'f': \"0.2991381883621216\",\n        },\n{\n            'v': 0.028750330209732444,\n            'f': \"0.028750330209732444\",\n        }]],\n        columns: [[\"number\", \"index\"], [\"number\", \"Observed albedo\"], [\"number\", \"Predicted albedo\"], [\"number\", \"Error\"]],\n        columnOptions: [{\"width\": \"1px\", \"className\": \"index_column\"}],\n        rowsPerPage: 25,\n        helpUrl: \"https://colab.research.google.com/notebooks/data_table.ipynb\",\n        suppressOutputScrolling: true,\n        minimumWidth: undefined,\n      });\n    ",
            "text/html": [
              "<div>\n",
              "<style scoped>\n",
              "    .dataframe tbody tr th:only-of-type {\n",
              "        vertical-align: middle;\n",
              "    }\n",
              "\n",
              "    .dataframe tbody tr th {\n",
              "        vertical-align: top;\n",
              "    }\n",
              "\n",
              "    .dataframe thead th {\n",
              "        text-align: right;\n",
              "    }\n",
              "</style>\n",
              "<table border=\"1\" class=\"dataframe\">\n",
              "  <thead>\n",
              "    <tr style=\"text-align: right;\">\n",
              "      <th></th>\n",
              "      <th>Observed albedo</th>\n",
              "      <th>Predicted albedo</th>\n",
              "      <th>Error</th>\n",
              "    </tr>\n",
              "  </thead>\n",
              "  <tbody>\n",
              "    <tr>\n",
              "      <th>0</th>\n",
              "      <td>0.281488</td>\n",
              "      <td>0.294437</td>\n",
              "      <td>0.012949</td>\n",
              "    </tr>\n",
              "    <tr>\n",
              "      <th>1</th>\n",
              "      <td>0.281488</td>\n",
              "      <td>0.292380</td>\n",
              "      <td>0.010892</td>\n",
              "    </tr>\n",
              "    <tr>\n",
              "      <th>2</th>\n",
              "      <td>0.281488</td>\n",
              "      <td>0.291988</td>\n",
              "      <td>0.010500</td>\n",
              "    </tr>\n",
              "    <tr>\n",
              "      <th>3</th>\n",
              "      <td>0.283892</td>\n",
              "      <td>0.289637</td>\n",
              "      <td>0.005745</td>\n",
              "    </tr>\n",
              "    <tr>\n",
              "      <th>4</th>\n",
              "      <td>0.283892</td>\n",
              "      <td>0.288560</td>\n",
              "      <td>0.004668</td>\n",
              "    </tr>\n",
              "    <tr>\n",
              "      <th>...</th>\n",
              "      <td>...</td>\n",
              "      <td>...</td>\n",
              "      <td>...</td>\n",
              "    </tr>\n",
              "    <tr>\n",
              "      <th>85</th>\n",
              "      <td>0.311071</td>\n",
              "      <td>0.296298</td>\n",
              "      <td>0.014773</td>\n",
              "    </tr>\n",
              "    <tr>\n",
              "      <th>86</th>\n",
              "      <td>0.327889</td>\n",
              "      <td>0.295906</td>\n",
              "      <td>0.031983</td>\n",
              "    </tr>\n",
              "    <tr>\n",
              "      <th>87</th>\n",
              "      <td>0.295266</td>\n",
              "      <td>0.296787</td>\n",
              "      <td>0.001521</td>\n",
              "    </tr>\n",
              "    <tr>\n",
              "      <th>88</th>\n",
              "      <td>0.327889</td>\n",
              "      <td>0.297277</td>\n",
              "      <td>0.030611</td>\n",
              "    </tr>\n",
              "    <tr>\n",
              "      <th>89</th>\n",
              "      <td>0.327889</td>\n",
              "      <td>0.299138</td>\n",
              "      <td>0.028750</td>\n",
              "    </tr>\n",
              "  </tbody>\n",
              "</table>\n",
              "<p>90 rows × 3 columns</p>\n",
              "</div>"
            ],
            "text/plain": [
              "    Observed albedo  Predicted albedo     Error\n",
              "0          0.281488          0.294437  0.012949\n",
              "1          0.281488          0.292380  0.010892\n",
              "2          0.281488          0.291988  0.010500\n",
              "3          0.283892          0.289637  0.005745\n",
              "4          0.283892          0.288560  0.004668\n",
              "..              ...               ...       ...\n",
              "85         0.311071          0.296298  0.014773\n",
              "86         0.327889          0.295906  0.031983\n",
              "87         0.295266          0.296787  0.001521\n",
              "88         0.327889          0.297277  0.030611\n",
              "89         0.327889          0.299138  0.028750\n",
              "\n",
              "[90 rows x 3 columns]"
            ]
          },
          "metadata": {
            "tags": []
          },
          "execution_count": 3
        }
      ]
    }
  ]
}