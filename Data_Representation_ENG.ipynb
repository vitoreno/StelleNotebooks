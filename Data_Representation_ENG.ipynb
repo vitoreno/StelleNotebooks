{
  "nbformat": 4,
  "nbformat_minor": 0,
  "metadata": {
    "colab": {
      "name": "Data_Representation_ENG.ipynb",
      "provenance": [],
      "collapsed_sections": [],
      "toc_visible": true
    },
    "kernelspec": {
      "name": "python3",
      "display_name": "Python 3"
    }
  },
  "cells": [
    {
      "cell_type": "markdown",
      "metadata": {
        "id": "PIVSUJ7wB7b8"
      },
      "source": [
        "# 1. Data representation for analysis\r\n",
        "\r\n"
      ]
    },
    {
      "cell_type": "markdown",
      "metadata": {
        "id": "Y5v9HYTGCDzc"
      },
      "source": [
        "## 1.1 Preparing the notebook"
      ]
    },
    {
      "cell_type": "markdown",
      "metadata": {
        "id": "ClW4ROU-DSIs"
      },
      "source": [
        "Press *play* in the following cell to install some libraries needed to view the maps. After installation, restart the runtime (from the toolbar *Runtime* -> *Restart runtime*) and continue with the next cells."
      ]
    },
    {
      "cell_type": "code",
      "metadata": {
        "id": "-9op8ZmGD6Pn"
      },
      "source": [
        "! apt-get install libgeos-3.5.0\n",
        "! apt-get install libgeos-dev\n",
        "! pip install https://github.com/matplotlib/basemap/archive/master.zip"
      ],
      "execution_count": null,
      "outputs": []
    },
    {
      "cell_type": "markdown",
      "metadata": {
        "id": "-LK78ZZ7ELdW"
      },
      "source": [
        "Press *play* in the following cell to import the datasets from the GitHub repository."
      ]
    },
    {
      "cell_type": "code",
      "metadata": {
        "id": "r36FU5SOENl1"
      },
      "source": [
        "! git clone https://github.com/vitoreno/StelleDataset.git\n",
        "! unzip /content/StelleDataset/data.zip"
      ],
      "execution_count": null,
      "outputs": []
    },
    {
      "cell_type": "markdown",
      "metadata": {
        "id": "NpzdBx4jESqk"
      },
      "source": [
        "Press *play* in the following cell to import the libraries needed to run the notebook."
      ]
    },
    {
      "cell_type": "code",
      "metadata": {
        "id": "rGw_0m4_EZ8D"
      },
      "source": [
        "%load_ext google.colab.data_table\n",
        "import pandas as pd\n",
        "import matplotlib.pyplot as plt\n",
        "from mpl_toolkits.basemap import Basemap\n",
        "import sys\n",
        "from datetime import datetime\n",
        "import scipy.stats"
      ],
      "execution_count": null,
      "outputs": []
    },
    {
      "cell_type": "markdown",
      "metadata": {
        "id": "Poa_MveJEfZB"
      },
      "source": [
        "## 1.2 Loading the dataset"
      ]
    },
    {
      "cell_type": "markdown",
      "metadata": {
        "id": "QHHcImRREvUe"
      },
      "source": [
        "Press the play button of the following cells to access the imported datasets and view a description of them.\n",
        "\n",
        "The dataset *mediterranean_surface_temperature_2014_15_16* describes the surface temperature of the Adriatic, Ionian and Tyrrhenian Seas from 2014 to 2016. For each observation we know:\n",
        "*   *time*: observation date;\n",
        "*   *sea*: indicates whether the observation took place in the Adriatic, Ionian or Tyrrhenian Sea;\n",
        "*   *lat, lon*: coordinates (latitude, longitude);\n",
        "*   *sst*: Sea Surface Temperature.\n",
        "\n"
      ]
    },
    {
      "cell_type": "code",
      "metadata": {
        "id": "CfD5TzQpJTWr"
      },
      "source": [
        "data = pd.read_csv(\"/content/mediterranean_surface_temperature_2014_15_16.csv\")\n",
        "data.describe()"
      ],
      "execution_count": null,
      "outputs": []
    },
    {
      "cell_type": "markdown",
      "metadata": {
        "id": "RImKLrOXLCL0"
      },
      "source": [
        "The dataset *soil_moisture_2016* describes the soil moisture on the coasts of the Adriatic, Ionian, Tyrrhenian, Red and Labrador Seas in the year 2016, and the sea surface temperature recorded at the nearest point. For each observation we know:\n",
        "*   *time*: observation date;\n",
        "*   *sea*: indicates whether the observation took place in the Adriatic, Ionian, Tyrrhenian, Red or Labrador seas;\n",
        "*   *lat_sm, lon_sm*: coordinates (latitude, longitude) of the point where the soil moisture has been sampled;\n",
        "*   *sm*: Soil Moisture.\n",
        "*   *lat, lon*: coordinates (latitude, longitude) of the point where the temperature has been sampled;\n",
        "*   *sst*: Sea Surface Temperature.\n"
      ]
    },
    {
      "cell_type": "code",
      "metadata": {
        "id": "GVMdzxpfKg2B"
      },
      "source": [
        "data = pd.read_csv(\"/content/soil_moisture_2016.csv\")\n",
        "data.describe()"
      ],
      "execution_count": null,
      "outputs": []
    },
    {
      "cell_type": "markdown",
      "metadata": {
        "id": "kfbUfFmb9h2b"
      },
      "source": [
        "## 1.3 Map visualization"
      ]
    },
    {
      "cell_type": "markdown",
      "metadata": {
        "id": "oDwIA6xa9034"
      },
      "source": [
        "The execution of the next cell allows to view a geographical map of the Mediterranean with the relative temperatures recorded on the selected date.\n",
        "\n",
        "Select a date between 2014-01-01 and 2016-12-31, and press *play*."
      ]
    },
    {
      "cell_type": "code",
      "metadata": {
        "cellView": "form",
        "id": "Y4VaRRJe-aXF"
      },
      "source": [
        "date_str = '2014-01-02' #@param {type:\"date\"}\n",
        "\n",
        "current_date = datetime.strptime(date_str + \" 12:00:00\", '%Y-%m-%d %H:%M:%S')\n",
        "\n",
        "if (current_date < datetime.strptime(\"2014-01-01 12:00:00\", '%Y-%m-%d %H:%M:%S')) | (current_date > datetime.strptime(\"2016-12-31 12:00:00\", '%Y-%m-%d %H:%M:%S')):\n",
        "  sys.exit(\"Data non valida. Inserire data compresa fra 2014-01-01 e 2016-12-31\")\n",
        "\n",
        "data = pd.read_csv(\"/content/mediterranean_surface_temperature_2014_15_16.csv\")\n",
        "data.time = pd.to_datetime(data.time)\n",
        "\n",
        "current_data = data.loc[data.time == current_date]\n",
        "lat = current_data.lat.to_numpy()\n",
        "lon = current_data.lon.to_numpy()\n",
        "sst = current_data.sst.to_numpy()\n",
        "\n",
        "fig = plt.figure(figsize=(10, 8))\n",
        "m = Basemap(projection='lcc', resolution='c',\n",
        "            width=1.5E6, height=1.5E6, \n",
        "            lat_0=42, lon_0=14)\n",
        "m.shadedrelief(scale=0.5)\n",
        "m.scatter(lon, lat, latlon=True, c=sst,\n",
        "          cmap='Reds', marker ='+', edgecolors='none', alpha=0.7)\n",
        "plt.colorbar()"
      ],
      "execution_count": null,
      "outputs": []
    },
    {
      "cell_type": "markdown",
      "metadata": {
        "id": "Ar8QQlK9_WU6"
      },
      "source": [
        "The execution of the next cell allows to view the geographical maps of the Mediterranean, Red Sea and Labrador Sea with relative temperatures and soil moisture values, recorded on the selected date.\n",
        "Select a date between 2016-01-01 and 2016-12-31, and press *play* (please not that data belonging to the Labrador Sea is not available for the whole period)."
      ]
    },
    {
      "cell_type": "code",
      "metadata": {
        "id": "SlsQyMjN_yY2",
        "cellView": "form"
      },
      "source": [
        "date_str = '2016-08-01' #@param {type:\"date\"}\n",
        "\n",
        "current_date = datetime.strptime(date_str + \" 12:00:00\", '%Y-%m-%d %H:%M:%S')\n",
        "\n",
        "if (current_date < datetime.strptime(\"2016-01-01 12:00:00\", '%Y-%m-%d %H:%M:%S')) | (current_date > datetime.strptime(\"2016-12-31 12:00:00\", '%Y-%m-%d %H:%M:%S')):\n",
        "  sys.exit(\"Data non valida. Inserire data compresa fra 2016-01-01 e 2016-12-31\")\n",
        "\n",
        "data = pd.read_csv(\"/content/soil_moisture_2016.csv\")\n",
        "data.time = pd.to_datetime(data.time)\n",
        "\n",
        "current_data = data.loc[data.time == current_date]\n",
        "lat_sst = current_data.lat.to_numpy()\n",
        "lon_sst = current_data.lon.to_numpy()\n",
        "sst = current_data.sst.to_numpy()\n",
        "lat_sm = current_data.lat_sm.to_numpy()\n",
        "lon_sm = current_data.lon_sm.to_numpy()\n",
        "sm = current_data.sm.to_numpy()\n",
        "\n",
        "# Mediterranean\n",
        "fig = plt.figure(figsize=(10, 5))\n",
        "m = Basemap(projection='lcc', resolution='c',\n",
        "            width=1.5E6, height=1.5E6, \n",
        "            lat_0=42, lon_0=14)\n",
        "m.shadedrelief(scale=0.5)\n",
        "m.scatter(lon_sst, lat_sst, latlon=True, c=sst,\n",
        "          cmap='Reds', marker ='+', edgecolors='none', alpha=0.7)\n",
        "plt.colorbar()\n",
        "m.scatter(lon_sm, lat_sm, latlon=True, c=sm,\n",
        "          cmap='Blues', marker ='x', edgecolors='none', alpha=0.7)\n",
        "plt.colorbar()\n",
        "plt.title(\"Mediterranean Sea\")\n",
        "\n",
        "# Red\n",
        "fig = plt.figure(figsize=(10, 5))\n",
        "m = Basemap(projection='lcc', resolution='c',\n",
        "            width=2E6, height=2E6, \n",
        "            lat_0=20, lon_0=38)\n",
        "m.shadedrelief(scale=0.5)\n",
        "m.scatter(lon_sst, lat_sst, latlon=True, c=sst,\n",
        "          cmap='Reds', marker ='+', edgecolors='none', alpha=0.7)\n",
        "plt.colorbar()\n",
        "m.scatter(lon_sm, lat_sm, latlon=True, c=sm,\n",
        "          cmap='Blues', marker ='x', edgecolors='none', alpha=0.7)\n",
        "plt.colorbar()\n",
        "plt.title(\"Red Sea\")\n",
        "\n",
        "# Labrador\n",
        "fig = plt.figure(figsize=(10, 5))\n",
        "m = Basemap(projection='lcc', resolution='c',\n",
        "            width=2E6, height=2E6, \n",
        "            lat_0=54, lon_0=-55)\n",
        "m.shadedrelief(scale=0.5)\n",
        "m.scatter(lon_sst, lat_sst, latlon=True, c=sst,\n",
        "          cmap='Reds', marker ='+', edgecolors='none', alpha=0.7)\n",
        "plt.colorbar()\n",
        "m.scatter(lon_sm, lat_sm, latlon=True, c=sm,\n",
        "          cmap='Blues', marker ='x', edgecolors='none', alpha=0.7)\n",
        "plt.colorbar()\n",
        "plt.title(\"Labrador Sea\")"
      ],
      "execution_count": null,
      "outputs": []
    },
    {
      "cell_type": "markdown",
      "metadata": {
        "id": "aszDWTva5R86"
      },
      "source": [
        "## 1.4 Pie chart"
      ]
    },
    {
      "cell_type": "markdown",
      "metadata": {
        "id": "heyTCAmn5p19"
      },
      "source": [
        "Press *play* to display the observations of *mediterranean_surface_temperature_2014_15_16* in a Pie chart."
      ]
    },
    {
      "cell_type": "code",
      "metadata": {
        "id": "a8-bgQ4E5o6I"
      },
      "source": [
        "data = pd.read_csv(\"/content/mediterranean_surface_temperature_2014_15_16.csv\")\n",
        "data.sea.value_counts().plot.pie(autopct='%1.0f%%', figsize=(5,5))"
      ],
      "execution_count": null,
      "outputs": []
    },
    {
      "cell_type": "markdown",
      "metadata": {
        "id": "HV5K6P3C6mP4"
      },
      "source": [
        "## 1.5 Histogram"
      ]
    },
    {
      "cell_type": "markdown",
      "metadata": {
        "id": "uBzrBN1v6txd"
      },
      "source": [
        "Running the next cell it is possible to view the average or median temperature of the Adriatic, Ionian and Tyrrhenian Seas, during the selected year.\n",
        "\n",
        "Select mode (average or median) and year of interest, and then press *play*."
      ]
    },
    {
      "cell_type": "code",
      "metadata": {
        "id": "G39S-7xw7crf",
        "cellView": "form"
      },
      "source": [
        "modality = \"median\" #@param [\"mean\", \"median\"]\n",
        "year = 2016 #@param [2014, 2015, 2016] {type:\"raw\"}\n",
        "\n",
        "data = pd.read_csv(\"/content/mediterranean_surface_temperature_2014_15_16.csv\")\n",
        "data.time = pd.to_datetime(data.time)\n",
        "\n",
        "current_data = data.loc[data.time.dt.year == year]\n",
        "\n",
        "if modality == \"mean\":\n",
        "  sst_mean = current_data.groupby([pd.DatetimeIndex(current_data.time).month, current_data.sea]).mean()\n",
        "  sst_mean.unstack().plot.bar(y='sst', xlabel='month', ylabel='surface temperature', ylim=[285,302], figsize=(10,5))\n",
        "elif modality == \"median\":\n",
        "  sst_median = current_data.groupby([pd.DatetimeIndex(current_data.time).month, current_data.sea]).median()\n",
        "  sst_median.unstack().plot.bar(y='sst', xlabel='month', ylabel='surface temperature', ylim=[285,302], figsize=(10,5))"
      ],
      "execution_count": null,
      "outputs": []
    },
    {
      "cell_type": "markdown",
      "metadata": {
        "id": "u5WBdmmb73Ny"
      },
      "source": [
        "## 1.6 Boxplot"
      ]
    },
    {
      "cell_type": "markdown",
      "metadata": {
        "id": "QVeUs_bb8ICE"
      },
      "source": [
        "Press *play* to view the distribution of latitude and longitude of the observations related to the Adriatic, Ionian and Tyrrhenian Seas, using the boxplot."
      ]
    },
    {
      "cell_type": "code",
      "metadata": {
        "id": "IRC-OIqS8p3f"
      },
      "source": [
        "data = pd.read_csv(\"/content/mediterranean_surface_temperature_2014_15_16.csv\")\n",
        "\n",
        "fig, axes = plt.subplots(nrows=1, ncols=2, figsize=(10,5))\n",
        "data.boxplot(column='lat', by='sea', ax=axes[0])\n",
        "data.boxplot(column='lon', by='sea', ax=axes[1])"
      ],
      "execution_count": null,
      "outputs": []
    },
    {
      "cell_type": "markdown",
      "metadata": {
        "id": "N3tgIQRD87bk"
      },
      "source": [
        "Through the execution of the next cell it is possible to view the temperature distribution in the observations related to the Adriatic, Ionian and Tyrrhenian Seas in the selected year and month, using the boxplot.\n",
        "Select the year and month of interest, and press *play*."
      ]
    },
    {
      "cell_type": "code",
      "metadata": {
        "id": "lOGEa5-K9Q_0",
        "cellView": "form"
      },
      "source": [
        "month = 12 #@param [1,2,3,4,5,6,7,8,9,10,11,12] {type: \"raw\"}\n",
        "year = 2016 #@param [2014,2015,2016] {type: \"raw\"}\n",
        "\n",
        "data = pd.read_csv(\"/content/mediterranean_surface_temperature_2014_15_16.csv\")\n",
        "data.time = pd.to_datetime(data.time)\n",
        "\n",
        "current_data = data.loc[((data.time.dt.year == year) & (data.time.dt.month == month))]\n",
        "\n",
        "current_data.boxplot(column='sst', by='sea', figsize=(5,5))"
      ],
      "execution_count": null,
      "outputs": []
    },
    {
      "cell_type": "markdown",
      "metadata": {
        "id": "mt-x8g_fBG_h"
      },
      "source": [
        "## 1.7 Correlation"
      ]
    },
    {
      "cell_type": "markdown",
      "metadata": {
        "id": "wr7140g5BNnj"
      },
      "source": [
        "The execution of the following cell allows to calculate the correlation between the soil moisture values on the coast and the sea surface temperatures recorded in the nearest points, on the selected date. The distributions of temperature and humidity are also described by means of histograms.\n",
        "Select a date between 2016-01-01 and 2016-12-31, and press *play*."
      ]
    },
    {
      "cell_type": "code",
      "metadata": {
        "id": "ISxrlYQ7CBGG",
        "cellView": "form"
      },
      "source": [
        "date_str = '2016-07-23' #@param {type:\"date\"}\n",
        "\n",
        "current_date = datetime.strptime(date_str + \" 12:00:00\", '%Y-%m-%d %H:%M:%S')\n",
        "\n",
        "if (current_date < datetime.strptime(\"2016-01-01 12:00:00\", '%Y-%m-%d %H:%M:%S')) | (current_date > datetime.strptime(\"2016-12-31 12:00:00\", '%Y-%m-%d %H:%M:%S')):\n",
        "  sys.exit(\"Data non valida. Inserire data compresa fra 2016-01-01 e 2016-12-31\")\n",
        "\n",
        "data = pd.read_csv(\"/content/soil_moisture_2016.csv\")\n",
        "data.time = pd.to_datetime(data.time)\n",
        "\n",
        "current_data = data.loc[data.time == current_date]\n",
        "\n",
        "x = current_data.sst.to_numpy()\n",
        "y = current_data.sm.to_numpy()\n",
        "\n",
        "r, p = scipy.stats.pearsonr(x, y)\n",
        "\n",
        "print(\"Correlation coefficient: \",r)\n",
        "print(\"P-value: \",p)\n",
        "\n",
        "fig, axes = plt.subplots(nrows=1, ncols=2, figsize=(10,5))\n",
        "axes[0].set_title('Temperature')\n",
        "current_data.sst.plot.hist(alpha=0.5, ax=axes[0])\n",
        "axes[1].set_title('Soil moisture')\n",
        "current_data.sm.plot.hist(alpha=0.5, ax=axes[1])"
      ],
      "execution_count": null,
      "outputs": []
    }
  ]
}