{
  "nbformat": 4,
  "nbformat_minor": 0,
  "metadata": {
    "colab": {
      "name": "Machine_Learning_ENG.ipynb",
      "provenance": [],
      "collapsed_sections": [],
      "toc_visible": true
    },
    "kernelspec": {
      "name": "python3",
      "display_name": "Python 3"
    }
  },
  "cells": [
    {
      "cell_type": "markdown",
      "metadata": {
        "id": "gcKYuxJaEAvr"
      },
      "source": [
        "## 1. Machine Learning"
      ]
    },
    {
      "cell_type": "markdown",
      "metadata": {
        "id": "FRLLDj1oEEPw"
      },
      "source": [
        "## 1.1 Preparing the notebook"
      ]
    },
    {
      "cell_type": "markdown",
      "metadata": {
        "id": "LKp3l37uENjA"
      },
      "source": [
        "Press *play* in the following cell to install some libraries needed to view the maps. After installation, restart the runtime (from the toolbar *Runtime* -> *Restart runtime*) and continue with the next cells."
      ]
    },
    {
      "cell_type": "code",
      "metadata": {
        "id": "ysxNZ03QFCmN"
      },
      "source": [
        "! apt-get install libgeos-3.5.0\n",
        "! apt-get install libgeos-dev\n",
        "! pip install https://github.com/matplotlib/basemap/archive/master.zip"
      ],
      "execution_count": null,
      "outputs": []
    },
    {
      "cell_type": "markdown",
      "metadata": {
        "id": "NaSq7aLNFDRQ"
      },
      "source": [
        "Press *play* in the following cell to import the datasets from the GitHub repository."
      ]
    },
    {
      "cell_type": "code",
      "metadata": {
        "id": "i-8NxzKfFFsZ"
      },
      "source": [
        "! git clone https://github.com/vitoreno/StelleDataset.git\n",
        "! unzip /content/StelleDataset/data.zip"
      ],
      "execution_count": null,
      "outputs": []
    },
    {
      "cell_type": "markdown",
      "metadata": {
        "id": "AE9PrWdMFHgB"
      },
      "source": [
        "Press *play* in the following cell to import the libraries needed to run the notebook."
      ]
    },
    {
      "cell_type": "code",
      "metadata": {
        "id": "C6hCjfCvFJEr"
      },
      "source": [
        "%load_ext google.colab.data_table\n",
        "import numpy as np\n",
        "import pandas as pd\n",
        "import matplotlib.pyplot as plt\n",
        "from mpl_toolkits.basemap import Basemap\n",
        "import sys\n",
        "from datetime import datetime\n",
        "from sklearn import svm\n",
        "from sklearn.metrics import mean_squared_error\n",
        "from sklearn.ensemble import RandomForestRegressor\n",
        "from sklearn.cluster import AgglomerativeClustering\n",
        "from sklearn.cluster import KMeans"
      ],
      "execution_count": null,
      "outputs": []
    },
    {
      "cell_type": "markdown",
      "metadata": {
        "id": "9ta0NezHFc1W"
      },
      "source": [
        "## 1.2 SVM"
      ]
    },
    {
      "cell_type": "markdown",
      "metadata": {
        "id": "u6sAhyC5Flom"
      },
      "source": [
        "We intend to predict the soil moisture values on the coast starting from the sea temperatures in the nearest points, using SVM.\n",
        "\n",
        "Select the regions to be trained on, and those to be evaluated on a given date. Possible dates range from 2016-01-01 to 2016-12-31. Finally press *play* to start the cell execution."
      ]
    },
    {
      "cell_type": "code",
      "metadata": {
        "cellView": "form",
        "id": "X3AZOumAHUib"
      },
      "source": [
        "#@markdown Training\n",
        "train_Adriatic = True #@param {type:\"boolean\"}\n",
        "train_Ionian = True #@param {type:\"boolean\"}\n",
        "train_Tyrrhenian = False #@param {type:\"boolean\"}\n",
        "train_Labrador = False #@param {type:\"boolean\"}\n",
        "train_Red = False #@param {type:\"boolean\"}\n",
        "#@markdown Test\n",
        "date_str = '2016-01-01' #@param {type:\"date\"}\n",
        "test_Adriatic = False #@param {type:\"boolean\"}\n",
        "test_Ionian = False #@param {type:\"boolean\"}\n",
        "test_Tyrrhenian = True #@param {type:\"boolean\"}\n",
        "test_Labrador = False #@param {type:\"boolean\"}\n",
        "test_Red = False #@param {type:\"boolean\"}\n",
        "\n",
        "train_list = []\n",
        "test_list = []\n",
        "if train_Adriatic:\n",
        "  train_list = train_list + [\"Adriatic\"]\n",
        "if train_Ionian:\n",
        "  train_list = train_list + [\"Ionian\"]\n",
        "if train_Tyrrhenian:\n",
        "  train_list = train_list + [\"Tyrrhenian\"]\n",
        "if train_Labrador:\n",
        "  train_list = train_list + [\"Labrador\"]\n",
        "if test_Red:\n",
        "  test_list = test_list + [\"Red\"]\n",
        "if test_Adriatic:\n",
        "  test_list = test_list + [\"Adriatic\"]\n",
        "if test_Ionian:\n",
        "  test_list = test_list + [\"Ionian\"]\n",
        "if test_Tyrrhenian:\n",
        "  test_list = test_list + [\"Tyrrhenian\"]\n",
        "if test_Labrador:\n",
        "  test_list = test_list + [\"Labrador\"]\n",
        "if test_Red:\n",
        "  test_list = test_list + [\"Red\"]\n",
        "\n",
        "current_date = datetime.strptime(date_str + \" 12:00:00\", '%Y-%m-%d %H:%M:%S')\n",
        "\n",
        "if (current_date < datetime.strptime(\"2016-01-01 12:00:00\", '%Y-%m-%d %H:%M:%S')) | (current_date > datetime.strptime(\"2016-12-31 12:00:00\", '%Y-%m-%d %H:%M:%S')):\n",
        "  sys.exit(\"Data non valida. Inserire data compresa fra 2016-01-01 e 2016-12-31\")\n",
        "\n",
        "data = pd.read_csv(\"/content/soil_moisture_2016.csv\")\n",
        "data.time = pd.to_datetime(data.time)\n",
        "train_data = data.loc[data['sea'].isin(train_list)]\n",
        "test_data = data.loc[((data['sea'].isin(test_list)) & (data['time'] == current_date))]\n",
        "\n",
        "train_sst = train_data.sst.to_numpy().reshape(-1, 1)\n",
        "train_sm = train_data.sm.to_numpy()\n",
        "test_sst = test_data.sst.to_numpy().reshape(-1, 1)\n",
        "test_sm = test_data.sm.to_numpy()\n",
        "\n",
        "regression = svm.SVR()\n",
        "\n",
        "regression.fit(train_sst,train_sm)\n",
        "\n",
        "prediction = regression.predict(test_sst)\n",
        "\n",
        "for i in range(test_sm.shape[0]):\n",
        "  plt.plot([test_sst[i],test_sst[i]], [test_sm[i],prediction[i]], '--b')\n",
        "plt.scatter(test_sst, test_sm, color='black', label='Observation')\n",
        "plt.scatter(test_sst, prediction, color='blue', label='Prediction')\n",
        "plt.xlabel('Temperature')\n",
        "plt.ylabel('Albedo')\n",
        "plt.legend()\n",
        "plt.show()\n",
        "\n",
        "results = pd.DataFrame({\"Observed albedo\": test_sm, \"Predicted albedo\": prediction, \"Error\": np.abs(test_sm - prediction)})\n",
        "print(\"Mean Squared Error: \", mean_squared_error(test_sm, prediction))\n",
        "results"
      ],
      "execution_count": null,
      "outputs": []
    },
    {
      "cell_type": "markdown",
      "metadata": {
        "id": "dWrYGiPfImh1"
      },
      "source": [
        "## 1.3 Random Forest"
      ]
    },
    {
      "cell_type": "markdown",
      "metadata": {
        "id": "CoWleJU0Ir1p"
      },
      "source": [
        "We intend to predict the soil moisture values on the coast starting from the sea temperatures in the nearest points, through Random Forest.\n",
        "\n",
        "Select the regions to be trained on, and those to be evaluated on a given date. Possible dates range from 2016-01-01 to 2016-12-31. Finally press *play* to start the cell execution."
      ]
    },
    {
      "cell_type": "code",
      "metadata": {
        "cellView": "form",
        "id": "q5K2xxAuI0aK"
      },
      "source": [
        "#@markdown Training\n",
        "train_Adriatic = True #@param {type:\"boolean\"}\n",
        "train_Ionian = True #@param {type:\"boolean\"}\n",
        "train_Tyrrhenian = False #@param {type:\"boolean\"}\n",
        "train_Labrador = False #@param {type:\"boolean\"}\n",
        "train_Red = False #@param {type:\"boolean\"}\n",
        "#@markdown Test\n",
        "date_str = '2016-01-01' #@param {type:\"date\"}\n",
        "test_Adriatic = False #@param {type:\"boolean\"}\n",
        "test_Ionian = False #@param {type:\"boolean\"}\n",
        "test_Tyrrhenian = True #@param {type:\"boolean\"}\n",
        "test_Labrador = False #@param {type:\"boolean\"}\n",
        "test_Red = False #@param {type:\"boolean\"}\n",
        "\n",
        "train_list = []\n",
        "test_list = []\n",
        "if train_Adriatic:\n",
        "  train_list = train_list + [\"Adriatic\"]\n",
        "if train_Ionian:\n",
        "  train_list = train_list + [\"Ionian\"]\n",
        "if train_Tyrrhenian:\n",
        "  train_list = train_list + [\"Tyrrhenian\"]\n",
        "if train_Labrador:\n",
        "  train_list = train_list + [\"Labrador\"]\n",
        "if test_Red:\n",
        "  test_list = test_list + [\"Red\"]\n",
        "if test_Adriatic:\n",
        "  test_list = test_list + [\"Adriatic\"]\n",
        "if test_Ionian:\n",
        "  test_list = test_list + [\"Ionian\"]\n",
        "if test_Tyrrhenian:\n",
        "  test_list = test_list + [\"Tyrrhenian\"]\n",
        "if test_Labrador:\n",
        "  test_list = test_list + [\"Labrador\"]\n",
        "if test_Red:\n",
        "  test_list = test_list + [\"Red\"]\n",
        "\n",
        "current_date = datetime.strptime(date_str + \" 12:00:00\", '%Y-%m-%d %H:%M:%S')\n",
        "\n",
        "if (current_date < datetime.strptime(\"2016-01-01 12:00:00\", '%Y-%m-%d %H:%M:%S')) | (current_date > datetime.strptime(\"2016-12-31 12:00:00\", '%Y-%m-%d %H:%M:%S')):\n",
        "  sys.exit(\"Data non valida. Inserire data compresa fra 2016-01-01 e 2016-12-31\")\n",
        "\n",
        "data = pd.read_csv(\"/content/soil_moisture_2016.csv\")\n",
        "data.time = pd.to_datetime(data.time)\n",
        "train_data = data.loc[data['sea'].isin(train_list)]\n",
        "test_data = data.loc[((data['sea'].isin(test_list)) & (data['time'] == current_date))]\n",
        "\n",
        "train_sst = train_data.sst.to_numpy().reshape(-1, 1)\n",
        "train_sm = train_data.sm.to_numpy()\n",
        "test_sst = test_data.sst.to_numpy().reshape(-1, 1)\n",
        "test_sm = test_data.sm.to_numpy()\n",
        "\n",
        "regression = RandomForestRegressor()\n",
        "\n",
        "regression.fit(train_sst,train_sm)\n",
        "\n",
        "prediction = regression.predict(test_sst)\n",
        "\n",
        "for i in range(test_sm.shape[0]):\n",
        "  plt.plot([test_sst[i],test_sst[i]], [test_sm[i],prediction[i]], '--b')\n",
        "plt.scatter(test_sst, test_sm, color='black', label='Observation')\n",
        "plt.scatter(test_sst, prediction, color='blue', label='Prediction')\n",
        "plt.xlabel('Temperature')\n",
        "plt.ylabel('Albedo')\n",
        "plt.legend()\n",
        "plt.show()\n",
        "\n",
        "results = pd.DataFrame({\"Observed albedo\": test_sm, \"Predicted albedo\": prediction, \"Error\": np.abs(test_sm - prediction)})\n",
        "print(\"Mean Squared Error: \", mean_squared_error(test_sm, prediction))\n",
        "results"
      ],
      "execution_count": null,
      "outputs": []
    },
    {
      "cell_type": "markdown",
      "metadata": {
        "id": "scSi-fxbKS78"
      },
      "source": [
        "## 1.4 Clustering"
      ]
    },
    {
      "cell_type": "markdown",
      "metadata": {
        "id": "O2ANG2g1Kg9_"
      },
      "source": [
        "We intend to carry out an unsupervised classification of the Mediterranean Sea surface temperature, through clustering.\n",
        "\n",
        "Select a date between 2014-01-01 and 2016-01-01, the desired number of clusters and press *play*."
      ]
    },
    {
      "cell_type": "code",
      "metadata": {
        "cellView": "form",
        "id": "JVB1uKAFLt4T"
      },
      "source": [
        "date_str = '2014-01-01' #@param {type:\"date\"}\n",
        "n_cluster = 2 #@param {type:\"slider\", min:2, max:10, step:1}\n",
        "\n",
        "current_date = datetime.strptime(date_str + \" 12:00:00\", '%Y-%m-%d %H:%M:%S')\n",
        "\n",
        "if (current_date < datetime.strptime(\"2014-01-01 12:00:00\", '%Y-%m-%d %H:%M:%S')) | (current_date > datetime.strptime(\"2016-12-31 12:00:00\", '%Y-%m-%d %H:%M:%S')):\n",
        "  sys.exit(\"Data non valida. Inserire data compresa fra 2014-01-01 e 2016-12-31\")\n",
        "\n",
        "data = pd.read_csv(\"/content/mediterranean_surface_temperature_2014_15_16.csv\")\n",
        "data.time = pd.to_datetime(data.time)\n",
        "\n",
        "current_data = data.loc[data.time == current_date]\n",
        "lat = current_data.lat.to_numpy()\n",
        "lon = current_data.lon.to_numpy()\n",
        "sst = current_data.sst.to_numpy().reshape(-1, 1)\n",
        "\n",
        "clustering = AgglomerativeClustering(n_clusters = n_cluster).fit(sst)\n",
        "\n",
        "fig = plt.figure(figsize=(10, 8))\n",
        "m = Basemap(projection='lcc', resolution='c',\n",
        "            width=1.5E6, height=1.5E6, \n",
        "            lat_0=42, lon_0=14)\n",
        "m.shadedrelief(scale=0.5)\n",
        "m.scatter(lon, lat, latlon=True, c=clustering.labels_,\n",
        "          cmap='Reds', marker ='+', edgecolors='none', alpha=0.7)"
      ],
      "execution_count": null,
      "outputs": []
    },
    {
      "cell_type": "markdown",
      "metadata": {
        "id": "2HzyRby7MEh8"
      },
      "source": [
        "## 1.5 K-Means"
      ]
    },
    {
      "cell_type": "markdown",
      "metadata": {
        "id": "vHTQ-S03ML0l"
      },
      "source": [
        "We intend to carry out an unsupervised classification of the Mediterranean Sea surface temperature, through K-Means.\n",
        "\n",
        "Select a date between 2014-01-01 and 2016-01-01, the desired number of clusters and press *play*."
      ]
    },
    {
      "cell_type": "code",
      "metadata": {
        "cellView": "form",
        "id": "xsew4LbOMYAD"
      },
      "source": [
        "date_str = '2014-01-01' #@param {type:\"date\"}\n",
        "n_cluster = 2 #@param {type:\"slider\", min:2, max:10, step:1}\n",
        "\n",
        "current_date = datetime.strptime(date_str + \" 12:00:00\", '%Y-%m-%d %H:%M:%S')\n",
        "\n",
        "if (current_date < datetime.strptime(\"2014-01-01 12:00:00\", '%Y-%m-%d %H:%M:%S')) | (current_date > datetime.strptime(\"2016-12-31 12:00:00\", '%Y-%m-%d %H:%M:%S')):\n",
        "  sys.exit(\"Data non valida. Inserire data compresa fra 2014-01-01 e 2016-12-31\")\n",
        "\n",
        "data = pd.read_csv(\"/content/mediterranean_surface_temperature_2014_15_16.csv\")\n",
        "data.time = pd.to_datetime(data.time)\n",
        "\n",
        "current_data = data.loc[data.time == current_date]\n",
        "lat = current_data.lat.to_numpy()\n",
        "lon = current_data.lon.to_numpy()\n",
        "sst = current_data.sst.to_numpy().reshape(-1, 1)\n",
        "\n",
        "kmeans = KMeans(n_clusters = n_cluster).fit(sst)\n",
        "\n",
        "fig = plt.figure(figsize=(10, 8))\n",
        "m = Basemap(projection='lcc', resolution='c',\n",
        "            width=1.5E6, height=1.5E6, \n",
        "            lat_0=42, lon_0=14)\n",
        "m.shadedrelief(scale=0.5)\n",
        "m.scatter(lon, lat, latlon=True, c=kmeans.labels_,\n",
        "          cmap='Reds', marker ='+', edgecolors='none', alpha=0.7)"
      ],
      "execution_count": null,
      "outputs": []
    }
  ]
}